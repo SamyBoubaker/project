{
 "cells": [
  {
   "cell_type": "code",
   "execution_count": 2,
   "metadata": {},
   "outputs": [
    {
     "name": "stdout",
     "output_type": "stream",
     "text": [
      "veuillez entrez un nombre: 7\n",
      "le nombre est impair\n"
     ]
    }
   ],
   "source": [
    "n = int(input(\"veuillez entrez un nombre: \"))\n",
    "if n%2 == 0 :\n",
    "    print(\"Le nombre est pair\")\n",
    "else :\n",
    "    print(\"Le nombre est impair\")\n",
    "    "
   ]
  },
  {
   "cell_type": "code",
   "execution_count": null,
   "metadata": {},
   "outputs": [],
   "source": [
    "x = float(input(\"veuillez entrez le premier coté du triange rectangle: \"))\n",
    "y = float(input(\"veuillez entrez le deuxième coté du triangle rectangle: \"))\n",
    "z = float(input(\"veuillez entrez le troisième coté du triangle rectangle: \"))\n",
    "if x**2 + y**2 == z**2 :\n",
    "    print(\"Le triangle x,y,z est un triangle rectangle: \")\n",
    "elif x**2 == y**2 + z**2 :\n",
    "    print(\"Le triangle x,y,z est un triangle rectangle: \")\n",
    "elif y**2 == x**2 + z**2 :\n",
    "    print (\"Le triange x,y,z est un triangle rectangle: \")\n",
    "    else :\n",
    "        print(\"Le triangle x,y,z n'est pas un triangle rectangle: \")\n",
    "        "
   ]
  },
  {
   "cell_type": "code",
   "execution_count": 9,
   "metadata": {},
   "outputs": [
    {
     "name": "stdout",
     "output_type": "stream",
     "text": [
      "Veuillez entrez le prix hors taxe 55\n",
      "66.0\n",
      "Veuillez entrez le prix hors taxe 67\n",
      "80.4\n",
      "Veuillez entrez le prix hors taxe 32\n",
      "38.4\n",
      "Veuillez entrez le prix hors taxe 0\n",
      "0.0\n"
     ]
    }
   ],
   "source": [
    "prixTTC = 1\n",
    "while prixTTC != 0 :\n",
    "    prixTTC = float(input(\"Veuillez entrez le prix hors taxe \"))\n",
    "    print((round(prixTTC * 1.2,2)))"
   ]
  },
  {
   "cell_type": "code",
   "execution_count": null,
   "metadata": {},
   "outputs": [],
   "source": [
    "L1 = [2,7,3,1,5,7,1]\n",
    "L2 = [8,5,9,4,1,1,5]\n",
    "L3 = list(set(L1+L2))\n",
    "print(L3)"
   ]
  },
  {
   "cell_type": "code",
   "execution_count": null,
   "metadata": {},
   "outputs": [],
   "source": [
    "L1 = [1,2,3,4,8,2,1]\n",
    "if (L1 == L1[::-1]):\n",
    "    print(\"La liste est un palindrome\")\n",
    "else :\n",
    "    print(\"La liste n'est pas un palindrome\")"
   ]
  },
  {
   "cell_type": "code",
   "execution_count": 15,
   "metadata": {},
   "outputs": [
    {
     "name": "stdout",
     "output_type": "stream",
     "text": [
      "W 1\n",
      "L 2\n",
      "S 3\n",
      "Ls 4\n"
     ]
    }
   ],
   "source": [
    "import random\n",
    "Lnom = [\"W\",\"L\",\"Ls\",\"S\"]\n",
    "\n",
    "random.shuffle(Lnom)\n",
    "\n",
    "for i in range(len(Lnom)) :\n",
    "    print(Lnom[i] , i+1)"
   ]
  },
  {
   "cell_type": "code",
   "execution_count": null,
   "metadata": {},
   "outputs": [],
   "source": []
  },
  {
   "cell_type": "code",
   "execution_count": null,
   "metadata": {},
   "outputs": [],
   "source": []
  }
 ],
 "metadata": {
  "kernelspec": {
   "display_name": "Python 3",
   "language": "python",
   "name": "python3"
  }
 },
 "nbformat": 4,
 "nbformat_minor": 4
}
