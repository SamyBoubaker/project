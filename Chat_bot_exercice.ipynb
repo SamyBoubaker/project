{
 "cells": [
  {
   "cell_type": "code",
   "execution_count": null,
   "metadata": {},
   "outputs": [
    {
     "name": "stdout",
     "output_type": "stream",
     "text": [
      "@@  Comment allez-vous ?\n",
      "mal et vous\n",
      "@@  Pensez-vous ce que vous dites ?\n",
      "je ne sais pas\n",
      "@@  Est-ce une bonne nouvelle ?\n",
      "peut etre ? \n",
      "@@  Oseriez-vous poser cette question à un humain ?\n",
      "ce n'était pas une question mais une ressemblance avec une discussion avec mon ami\n",
      "@@  Pourquoi pensez-vous en ce moment à votre ami ?\n",
      "parce qu'il est mort\n",
      "@@  Pensez-vous ce que vous dites ?\n",
      "oui je le pense fortement\n",
      "@@  Je sens une pointe de regret.\n"
     ]
    }
   ],
   "source": [
    "import random \n",
    " \n",
    "Debut = [ \"Comment allez-vous ?\" ,\n",
    "         \"Pourquoi venez-vous me voir ?\",\n",
    "         \"Comment s’est passé votre journée ?\"] \n",
    " \n",
    "RepPERE = [ \"Comment va votre {0} ?\",\n",
    "           \"La relation avec {0} vous pose-t-elle problème ?\",\n",
    "           \"Pourquoi pensez-vous en ce moment à votre {0} ?\"] \n",
    " \n",
    "Questions = [ \"Pourquoi me posez-vous cette question ?\",\n",
    "             \"Oseriez-vous poser cette question à un humain ?\",\n",
    "             \"Je ne peux malheureusement pas répondre à cette question\"] \n",
    " \n",
    "Vagues = [ \"J’entends bien.\", \"Je sens une pointe de regret.\",\n",
    "          \"Est-ce une bonne nouvelle ?\", \"Oui, c’est ça le problème.\",\n",
    "          \"Pensez-vous ce que vous dites ?\", \"Hum… Il se peut.\"] \n",
    " \n",
    "k = random.randint(0,len(Debut)) \n",
    "print(\"@@ \",Debut[k])\n",
    "\n",
    "for i in range(10): \n",
    "   phrase = input() \n",
    " \n",
    "   # test sur le mot-clé \n",
    "   \n",
    "   motclefs = [\"père\",\"mère\",\"copain\", \"copine\", \"maman\", \"papa\", \n",
    "\"ami\", \"amie\"] \n",
    "   found = \"\" \n",
    "   for motc in motclefs : \n",
    "      if phrase.find(motc) > 0 : \n",
    "          found = motc \n",
    "    \n",
    "   if len(found) > 0 : \n",
    "       k = random.randint(0,len(RepPERE)-1) \n",
    "       reponse = RepPERE[k] \n",
    "       print(\"@@ \",reponse.format(found)) \n",
    " \n",
    "   else : \n",
    "       # est-ce une question ? \n",
    "        \n",
    "       if phrase.find(\"?\") > 0 : \n",
    "           k = random.randint(0,len(Questions)-1) \n",
    "           print(\"@@ \",Questions[k]) \n",
    "        \n",
    "       else : \n",
    "           # vite une phrase vague : \n",
    "           k = random.randint(0,len(Vagues)-1) \n",
    "           print(\"@@ \",Vagues[k])"
   ]
  },
  {
   "cell_type": "code",
   "execution_count": null,
   "metadata": {},
   "outputs": [],
   "source": []
  },
  {
   "cell_type": "code",
   "execution_count": null,
   "metadata": {},
   "outputs": [],
   "source": []
  }
 ],
 "metadata": {
  "kernelspec": {
   "display_name": "Python 3",
   "language": "python",
   "name": "python3"
  },
  "language_info": {
   "codemirror_mode": {
    "name": "ipython",
    "version": 3
   },
   "file_extension": ".py",
   "mimetype": "text/x-python",
   "name": "python",
   "nbconvert_exporter": "python",
   "pygments_lexer": "ipython3",
   "version": "3.7.6"
  }
 },
 "nbformat": 4,
 "nbformat_minor": 2
}
