{
 "cells": [
  {
   "cell_type": "code",
   "execution_count": 10,
   "metadata": {},
   "outputs": [],
   "source": [
    "# Import de la librairie pandas avec l'allias pd\n",
    "\n",
    "import pandas as pd"
   ]
  },
  {
   "cell_type": "code",
   "execution_count": 7,
   "metadata": {},
   "outputs": [
    {
     "name": "stdout",
     "output_type": "stream",
     "text": [
      "   Colonne1  Colonne2 Colonne3\n",
      "a       1.1         2      oui\n",
      "b       2.7        10      non\n",
      "c       5.3         9      non\n"
     ]
    }
   ],
   "source": [
    "#Création dun dataframe\n",
    "\n",
    "df = pd.DataFrame({'Colonne1': [1.1, 2.7, 5.3], 'Colonne2': [2, 10, 9], 'Colonne3': ['oui', 'non', 'non']},\n",
    "                 index = ['a','b','c'])\n",
    "\n",
    "print(df)"
   ]
  },
  {
   "cell_type": "code",
   "execution_count": 23,
   "metadata": {},
   "outputs": [],
   "source": [
    "#Import de données depuis un fichier Excel dans un dataframe\n",
    "\n",
    "import pandas as pd\n",
    "\n",
    "nom_colonnes = ['consommation', 'cylindres', 'deplacement', 'puissance',\n",
    "                'poids', 'acceleration', 'annee', 'origine', 'nom']\n",
    "\n",
    "\n",
    "data = pd.read_excel('/home/simplon/Téléchargements/autompg.xlsx',\n",
    "                    index_col=None, header=None, names=nom_colonnes, skiprows=1)\n"
   ]
  },
  {
   "cell_type": "code",
   "execution_count": 13,
   "metadata": {},
   "outputs": [
    {
     "name": "stdout",
     "output_type": "stream",
     "text": [
      "  consommation  cylindres  deplacement  puissance  poids  acceleration  \\\n",
      "0          mpg  cylindres  déplacement  puissance  poids  accélération   \n",
      "1           18          8          307        130   3504            12   \n",
      "2           15          8          350        165   3693          11.5   \n",
      "3           18          8          318        150   3436            11   \n",
      "4           16          8          304        150   3433            12   \n",
      "\n",
      "             annee  origine                        nom  \n",
      "0  année de modèle  origine          Nom de la voiture  \n",
      "1               70        1  chevrolet chevelle malibu  \n",
      "2               70        1          buick skylark 320  \n",
      "3               70        1         plymouth satellite  \n",
      "4               70        1              amc rebel sst  \n"
     ]
    }
   ],
   "source": [
    "# Affichier les premières lignes du dataframe\n",
    "print(data.head())"
   ]
  },
  {
   "cell_type": "code",
   "execution_count": 14,
   "metadata": {},
   "outputs": [
    {
     "name": "stdout",
     "output_type": "stream",
     "text": [
      "(399, 9)\n",
      "399\n",
      "9\n"
     ]
    }
   ],
   "source": [
    "#Afficher les dimensions du dataframe\n",
    "\n",
    "print(data.shape)\n",
    "print(data.shape[0])\n",
    "print(data.shape[1])"
   ]
  },
  {
   "cell_type": "code",
   "execution_count": 15,
   "metadata": {},
   "outputs": [
    {
     "name": "stdout",
     "output_type": "stream",
     "text": [
      "<class 'pandas.core.frame.DataFrame'>\n",
      "RangeIndex: 399 entries, 0 to 398\n",
      "Data columns (total 9 columns):\n",
      " #   Column        Non-Null Count  Dtype \n",
      "---  ------        --------------  ----- \n",
      " 0   consommation  399 non-null    object\n",
      " 1   cylindres     399 non-null    object\n",
      " 2   deplacement   399 non-null    object\n",
      " 3   puissance     393 non-null    object\n",
      " 4   poids         399 non-null    object\n",
      " 5   acceleration  399 non-null    object\n",
      " 6   annee         399 non-null    object\n",
      " 7   origine       399 non-null    object\n",
      " 8   nom           399 non-null    object\n",
      "dtypes: object(9)\n",
      "memory usage: 28.2+ KB\n",
      "None\n"
     ]
    }
   ],
   "source": [
    "#information sue les données\n",
    "print(data.info())"
   ]
  },
  {
   "cell_type": "code",
   "execution_count": 16,
   "metadata": {},
   "outputs": [
    {
     "name": "stdout",
     "output_type": "stream",
     "text": [
      "        consommation  cylindres  deplacement  puissance  poids  acceleration  \\\n",
      "count            399        399          399        393    399         399.0   \n",
      "unique           130          6           83         94    352          96.0   \n",
      "top               13          4           97        150   2130          14.5   \n",
      "freq              20        204           21         22      4          23.0   \n",
      "\n",
      "        annee  origine         nom  \n",
      "count     399      399         399  \n",
      "unique     14        4         306  \n",
      "top        73        1  ford pinto  \n",
      "freq       40      249           6  \n"
     ]
    }
   ],
   "source": [
    "#description des données\n",
    "\n",
    "print(data.describe())"
   ]
  },
  {
   "cell_type": "code",
   "execution_count": 17,
   "metadata": {},
   "outputs": [
    {
     "name": "stdout",
     "output_type": "stream",
     "text": [
      "annee      70  71  72  73  74  75  76  77  78  79  80  81  82  année de modèle\n",
      "cylindres                                                                     \n",
      "3           0   0   1   1   0   0   0   1   0   0   1   0   0                0\n",
      "4           7  13  14  11  15  12  15  14  17  12  25  21  28                0\n",
      "5           0   0   0   0   0   0   0   0   1   1   1   0   0                0\n",
      "6           4   8   0   8   7  12  10   5  12   6   2   7   3                0\n",
      "8          18   7  13  20   5   6   9   8   6  10   0   1   0                0\n",
      "cylindres   0   0   0   0   0   0   0   0   0   0   0   0   0                1\n"
     ]
    }
   ],
   "source": [
    "# Fréquence croisés\n",
    "print(pd.crosstab(data['cylindres'],data['annee']))\n"
   ]
  },
  {
   "cell_type": "code",
   "execution_count": 18,
   "metadata": {},
   "outputs": [
    {
     "name": "stdout",
     "output_type": "stream",
     "text": [
      "annee            70        71        72        73        74        75  \\\n",
      "cylindres                                                               \n",
      "3          0.000000  0.000000  0.250000  0.250000  0.000000  0.000000   \n",
      "4          0.034314  0.063725  0.068627  0.053922  0.073529  0.058824   \n",
      "5          0.000000  0.000000  0.000000  0.000000  0.000000  0.000000   \n",
      "6          0.047619  0.095238  0.000000  0.095238  0.083333  0.142857   \n",
      "8          0.174757  0.067961  0.126214  0.194175  0.048544  0.058252   \n",
      "cylindres  0.000000  0.000000  0.000000  0.000000  0.000000  0.000000   \n",
      "\n",
      "annee            76        77        78        79        80        81  \\\n",
      "cylindres                                                               \n",
      "3          0.000000  0.250000  0.000000  0.000000  0.250000  0.000000   \n",
      "4          0.073529  0.068627  0.083333  0.058824  0.122549  0.102941   \n",
      "5          0.000000  0.000000  0.333333  0.333333  0.333333  0.000000   \n",
      "6          0.119048  0.059524  0.142857  0.071429  0.023810  0.083333   \n",
      "8          0.087379  0.077670  0.058252  0.097087  0.000000  0.009709   \n",
      "cylindres  0.000000  0.000000  0.000000  0.000000  0.000000  0.000000   \n",
      "\n",
      "annee            82  année de modèle  \n",
      "cylindres                             \n",
      "3          0.000000              0.0  \n",
      "4          0.137255              0.0  \n",
      "5          0.000000              0.0  \n",
      "6          0.035714              0.0  \n",
      "8          0.000000              0.0  \n",
      "cylindres  0.000000              1.0  \n"
     ]
    }
   ],
   "source": [
    "# Pourcentage croisés\n",
    "print(pd.crosstab(data['cylindres'],data['annee'], normalize='index'))"
   ]
  },
  {
   "cell_type": "code",
   "execution_count": 19,
   "metadata": {},
   "outputs": [
    {
     "name": "stdout",
     "output_type": "stream",
     "text": [
      "                         nom consommation\n",
      "0          Nom de la voiture          mpg\n",
      "1  chevrolet chevelle malibu           18\n",
      "2          buick skylark 320           15\n",
      "3         plymouth satellite           18\n",
      "4              amc rebel sst           16\n"
     ]
    }
   ],
   "source": [
    "#accès à une ou plusieurs colonne\n",
    "print(data[['nom', 'consommation']].head())"
   ]
  },
  {
   "cell_type": "code",
   "execution_count": 21,
   "metadata": {},
   "outputs": [
    {
     "name": "stdout",
     "output_type": "stream",
     "text": [
      "10     amc ambassador dpl\n",
      "11    dodge challenger se\n",
      "12     plymouth 'cuda 340\n",
      "Name: nom, dtype: object\n"
     ]
    }
   ],
   "source": [
    "#Affiche les valeurs 10 à 12\n",
    "\n",
    "print(data['nom'][10:13])"
   ]
  },
  {
   "cell_type": "code",
   "execution_count": 24,
   "metadata": {},
   "outputs": [
    {
     "name": "stdout",
     "output_type": "stream",
     "text": [
      "18.0\n",
      "31.0\n"
     ]
    }
   ],
   "source": [
    "#Accèes à la valeur de la première ligne,première colonne\n",
    "print(data.iloc[0, 0])\n",
    "#Accèes à la valeur de la dernière ligne, première colonne\n",
    "print(data.iloc[-1, 0])\n"
   ]
  },
  {
   "cell_type": "code",
   "execution_count": 25,
   "metadata": {},
   "outputs": [
    {
     "name": "stdout",
     "output_type": "stream",
     "text": [
      "   consommation  cylindres  deplacement  puissance  poids  acceleration  \\\n",
      "0          18.0          8        307.0      130.0   3504          12.0   \n",
      "1          15.0          8        350.0      165.0   3693          11.5   \n",
      "2          18.0          8        318.0      150.0   3436          11.0   \n",
      "3          16.0          8        304.0      150.0   3433          12.0   \n",
      "4          17.0          8        302.0      140.0   3449          10.5   \n",
      "\n",
      "   annee  origine                        nom  \n",
      "0     70        1  chevrolet chevelle malibu  \n",
      "1     70        1          buick skylark 320  \n",
      "2     70        1         plymouth satellite  \n",
      "3     70        1              amc rebel sst  \n",
      "4     70        1                ford torino  \n"
     ]
    }
   ],
   "source": [
    "#Toute les colonnes avec les lignes 0 à 4\n",
    "print(data.iloc[0:5,:])"
   ]
  },
  {
   "cell_type": "code",
   "execution_count": 27,
   "metadata": {},
   "outputs": [
    {
     "name": "stdout",
     "output_type": "stream",
     "text": [
      "     consommation  cylindres  deplacement  puissance  poids  acceleration  \\\n",
      "309          41.5          4         98.0       76.0   2144          14.7   \n",
      "310          38.1          4         89.0       60.0   1968          18.8   \n",
      "311          32.1          4         98.0       70.0   2120          15.5   \n",
      "312          37.2          4         86.0       65.0   2019          16.4   \n",
      "313          28.0          4        151.0       90.0   2678          16.5   \n",
      "\n",
      "     annee  origine                    nom  \n",
      "309     80        2              vw rabbit  \n",
      "310     80        3  toyota corolla tercel  \n",
      "311     80        1     chevrolet chevette  \n",
      "312     80        3             datsun 310  \n",
      "313     80        1     chevrolet citation  \n"
     ]
    }
   ],
   "source": [
    "#Listes des voitures dont son de l'année 80\n",
    "print(data.loc[data['annee']==80,:].head())"
   ]
  },
  {
   "cell_type": "code",
   "execution_count": 28,
   "metadata": {},
   "outputs": [],
   "source": [
    "#Pour que le graphique apparaissent dans le notebook\n",
    "%matplotlib inline\n",
    "#importation de la librairie\n",
    "import matplotlib.pyplot as plt"
   ]
  },
  {
   "cell_type": "code",
   "execution_count": 29,
   "metadata": {},
   "outputs": [
    {
     "data": {
      "text/plain": [
       "array([[<matplotlib.axes._subplots.AxesSubplot object at 0x7f62893d7590>]],\n",
       "      dtype=object)"
      ]
     },
     "execution_count": 29,
     "metadata": {},
     "output_type": "execute_result"
    },
    {
     "data": {
      "image/png": "[encoded data removed]",
      "text/plain": [
       "<Figure size 432x288 with 1 Axes>"
      ]
     },
     "metadata": {
      "needs_background": "light"
     },
     "output_type": "display_data"
    }
   ],
   "source": [
    "#histogramme de la puissance\n",
    "data.hist(column='puissance')"
   ]
  },
  {
   "cell_type": "code",
   "execution_count": null,
   "metadata": {},
   "outputs": [],
   "source": []
  }
 ],
 "metadata": {
  "kernelspec": {
   "display_name": "Python 3",
   "language": "python",
   "name": "python3"
  },
  "language_info": {
   "codemirror_mode": {
    "name": "ipython",
    "version": 3
   },
   "file_extension": ".py",
   "mimetype": "text/x-python",
   "name": "python",
   "nbconvert_exporter": "python",
   "pygments_lexer": "ipython3",
   "version": "3.7.6"
  }
 },
 "nbformat": 4,
 "nbformat_minor": 4
}
